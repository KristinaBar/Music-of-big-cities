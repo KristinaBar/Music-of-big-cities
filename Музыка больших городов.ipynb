{
 "cells": [
  {
   "cell_type": "markdown",
   "metadata": {
    "deletable": false,
    "editable": false,
    "id": "E0vqbgi9ay0H"
   },
   "source": [
    "# Яндекс Музыка"
   ]
  },
  {
   "cell_type": "markdown",
   "metadata": {
    "deletable": false,
    "editable": false,
    "id": "VUC88oWjTJw2"
   },
   "source": [
    "Сравнение Москвы и Петербурга окружено мифами. Например:\n",
    " * Москва — мегаполис, подчинённый жёсткому ритму рабочей недели;\n",
    " * Петербург — культурная столица, со своими вкусами.\n",
    "\n",
    "На данных Яндекс Музыки вы сравните поведение пользователей двух столиц.\n",
    "\n",
    "**Цель исследования** — проверьте три гипотезы:\n",
    "1. Активность пользователей зависит от дня недели. Причём в Москве и Петербурге это проявляется по-разному.\n",
    "2. В понедельник утром в Москве преобладают одни жанры, а в Петербурге — другие. Так же и вечером пятницы преобладают разные жанры — в зависимости от города.\n",
    "3. Москва и Петербург предпочитают разные жанры музыки. В Москве чаще слушают поп-музыку, в Петербурге — русский рэп.\n",
    "\n",
    "**Ход исследования**\n",
    "\n",
    "Данные о поведении пользователей вы получите из файла `yandex_music_project.csv`. О качестве данных ничего не известно. Поэтому перед проверкой гипотез понадобится обзор данных.\n",
    "\n",
    "Вы проверите данные на ошибки и оцените их влияние на исследование. Затем, на этапе предобработки вы поищете возможность исправить самые критичные ошибки данных.\n",
    "\n",
    "Таким образом, исследование пройдёт в три этапа:\n",
    " 1. Обзор данных.\n",
    " 2. Предобработка данных.\n",
    " 3. Проверка гипотез.\n",
    "\n"
   ]
  },
  {
   "cell_type": "markdown",
   "metadata": {
    "deletable": false,
    "editable": false,
    "id": "Ml1hmfXC_Zcs"
   },
   "source": [
    "## Обзор данных\n",
    "\n",
    "Составьте первое представление о данных Яндекс Музыки.\n",
    "\n",
    "\n"
   ]
  },
  {
   "cell_type": "markdown",
   "metadata": {
    "deletable": false,
    "editable": false,
    "id": "57eAOGIz_Zcs",
    "tags": [
     "start_task"
    ]
   },
   "source": [
    "**Задание 1**"
   ]
  },
  {
   "cell_type": "code",
   "execution_count": 2,
   "metadata": {
    "deletable": false,
    "id": "AXN7PHPN_Zcs"
   },
   "outputs": [],
   "source": [
    "# импорт библиотеки pandas\n",
    "import pandas as pd"
   ]
  },
  {
   "cell_type": "markdown",
   "metadata": {
    "deletable": false,
    "editable": false,
    "id": "SG23P8tt_Zcs",
    "tags": [
     "start_task"
    ]
   },
   "source": [
    "**Задание 2**"
   ]
  },
  {
   "cell_type": "code",
   "execution_count": 3,
   "metadata": {
    "deletable": false,
    "id": "fFVu7vqh_Zct"
   },
   "outputs": [],
   "source": [
    "# чтение файла с данными и сохранение в df\n",
    "df = pd.read_csv('/datasets/yandex_music_project.csv')"
   ]
  },
  {
   "cell_type": "markdown",
   "metadata": {
    "deletable": false,
    "editable": false,
    "id": "rDoOMd3uTqnZ",
    "tags": [
     "start_task"
    ]
   },
   "source": [
    "**Задание 3**"
   ]
  },
  {
   "cell_type": "code",
   "execution_count": 4,
   "metadata": {
    "deletable": false,
    "id": "oWTVX3gW_Zct"
   },
   "outputs": [
    {
     "name": "stdout",
     "output_type": "stream",
     "text": [
      "     userID                        Track            artist   genre  \\\n",
      "0  FFB692EC            Kamigata To Boots  The Mass Missile    rock   \n",
      "1  55204538  Delayed Because of Accident  Andreas Rönnberg    rock   \n",
      "2    20EC38            Funiculì funiculà       Mario Lanza     pop   \n",
      "3  A3DD03C9        Dragons in the Sunset        Fire + Ice    folk   \n",
      "4  E2DC1FAE                  Soul People        Space Echo   dance   \n",
      "5  842029A1                    Преданная         IMPERVTOR  rusrap   \n",
      "6  4CB90AA5                         True      Roman Messer   dance   \n",
      "7  F03E1C1F             Feeling This Way   Polina Griffith   dance   \n",
      "8  8FA1D3BE     И вновь продолжается бой               NaN  ruspop   \n",
      "9  E772D5C0                    Pessimist               NaN   dance   \n",
      "\n",
      "             City        time        Day  \n",
      "0  Saint-Petersburg  20:28:33  Wednesday  \n",
      "1            Moscow  14:07:09     Friday  \n",
      "2  Saint-Petersburg  20:58:07  Wednesday  \n",
      "3  Saint-Petersburg  08:37:09     Monday  \n",
      "4            Moscow  08:34:34     Monday  \n",
      "5  Saint-Petersburg  13:09:41     Friday  \n",
      "6            Moscow  13:00:07  Wednesday  \n",
      "7            Moscow  20:47:49  Wednesday  \n",
      "8            Moscow  09:17:40     Friday  \n",
      "9  Saint-Petersburg  21:20:49  Wednesday  \n"
     ]
    }
   ],
   "source": [
    "# получение первых 10 строк таблицы df\n",
    "print(df.head(10))"
   ]
  },
  {
   "cell_type": "markdown",
   "metadata": {
    "deletable": false,
    "editable": false,
    "id": "EO73Kwic_Zct",
    "tags": [
     "start_task"
    ]
   },
   "source": [
    "**Задание 4**"
   ]
  },
  {
   "cell_type": "code",
   "execution_count": 5,
   "metadata": {
    "deletable": false,
    "id": "DSf2kIb-_Zct"
   },
   "outputs": [
    {
     "name": "stdout",
     "output_type": "stream",
     "text": [
      "<class 'pandas.core.frame.DataFrame'>\n",
      "RangeIndex: 65079 entries, 0 to 65078\n",
      "Data columns (total 7 columns):\n",
      " #   Column    Non-Null Count  Dtype \n",
      "---  ------    --------------  ----- \n",
      " 0     userID  65079 non-null  object\n",
      " 1   Track     63848 non-null  object\n",
      " 2   artist    57876 non-null  object\n",
      " 3   genre     63881 non-null  object\n",
      " 4     City    65079 non-null  object\n",
      " 5   time      65079 non-null  object\n",
      " 6   Day       65079 non-null  object\n",
      "dtypes: object(7)\n",
      "memory usage: 3.5+ MB\n"
     ]
    }
   ],
   "source": [
    "# получение общей информации о данных в таблице df\n",
    "df.info()\n",
    "\n"
   ]
  },
  {
   "cell_type": "markdown",
   "metadata": {
    "deletable": false,
    "editable": false,
    "id": "TaQ2Iwbr_Zct"
   },
   "source": [
    "Количество значений в столбцах различается. Значит, в данных есть пропущенные значения."
   ]
  },
  {
   "cell_type": "markdown",
   "metadata": {
    "deletable": false,
    "editable": false,
    "id": "4P0UCWzswgEm",
    "tags": [
     "start_task"
    ]
   },
   "source": [
    "**Задание 5**"
   ]
  },
  {
   "cell_type": "code",
   "execution_count": 6,
   "metadata": {
    "id": "c137-ZstwgEm"
   },
   "outputs": [],
   "source": [
    "# Напишите ваш ответ здесь комментарием. Не удаляйте символ #. Не меняйте тип этой ячейки на Markdown.\n",
    "# строчные буквы должны отделяться _ (user_ID) и начинаться с прописной (track, city)"
   ]
  },
  {
   "cell_type": "markdown",
   "metadata": {
    "deletable": false,
    "editable": false,
    "id": "MCB6-dXG_Zct"
   },
   "source": [
    "**Выводы**\n",
    "\n",
    "В каждой строке таблицы — данные о прослушанном треке. Часть колонок описывает саму композицию: название, исполнителя и жанр. Остальные данные рассказывают о пользователе: из какого он города, когда он слушал музыку.\n",
    "\n",
    "Предварительно можно утверждать, что данных достаточно для проверки гипотез. Но встречаются пропуски в данных, а в названиях колонок — расхождения с хорошим стилем.\n",
    "\n",
    "Чтобы двигаться дальше, нужно устранить проблемы в данных."
   ]
  },
  {
   "cell_type": "markdown",
   "metadata": {
    "deletable": false,
    "editable": false,
    "id": "SjYF6Ub9_Zct"
   },
   "source": [
    "## Предобработка данных"
   ]
  },
  {
   "cell_type": "markdown",
   "metadata": {
    "deletable": false,
    "editable": false,
    "id": "dIaKXr29_Zct",
    "tags": [
     "start_task"
    ]
   },
   "source": [
    "### Переименование столбцов\n",
    "\n",
    "**Задание 6**"
   ]
  },
  {
   "cell_type": "code",
   "execution_count": 7,
   "metadata": {
    "deletable": false,
    "id": "oKOTdF_Q_Zct"
   },
   "outputs": [
    {
     "name": "stdout",
     "output_type": "stream",
     "text": [
      "Index(['  userID', 'Track', 'artist', 'genre', '  City  ', 'time', 'Day'], dtype='object')\n"
     ]
    }
   ],
   "source": [
    "# перечень названий столбцов таблицы df\n",
    "print(df.columns)"
   ]
  },
  {
   "cell_type": "markdown",
   "metadata": {
    "deletable": false,
    "editable": false,
    "id": "zj5534cv_Zct",
    "tags": [
     "start_task"
    ]
   },
   "source": [
    "**Задание 7**"
   ]
  },
  {
   "cell_type": "code",
   "execution_count": 8,
   "metadata": {
    "deletable": false,
    "id": "ISlFqs5y_Zct"
   },
   "outputs": [],
   "source": [
    "# переименование столбцов\n",
    "df = df.rename(columns={'  userID':'user_id','Track':'track','  City  ':'city', 'Day':'day'})"
   ]
  },
  {
   "cell_type": "markdown",
   "metadata": {
    "deletable": false,
    "editable": false,
    "id": "1dqbh00J_Zct",
    "tags": [
     "start_task"
    ]
   },
   "source": [
    "**Задание 8**"
   ]
  },
  {
   "cell_type": "code",
   "execution_count": 9,
   "metadata": {
    "deletable": false,
    "id": "d4NOAmTW_Zct"
   },
   "outputs": [
    {
     "name": "stdout",
     "output_type": "stream",
     "text": [
      "Index(['user_id', 'track', 'artist', 'genre', 'city', 'time', 'day'], dtype='object')\n"
     ]
    }
   ],
   "source": [
    "# проверка результатов - перечень названий столбцов\n",
    "print(df.columns)"
   ]
  },
  {
   "cell_type": "markdown",
   "metadata": {
    "deletable": false,
    "editable": false,
    "id": "5ISfbcfY_Zct",
    "tags": [
     "start_task"
    ]
   },
   "source": [
    "### Обработка пропущенных значений\n",
    "\n",
    "**Задание 9**"
   ]
  },
  {
   "cell_type": "code",
   "execution_count": 10,
   "metadata": {
    "deletable": false,
    "id": "RskX29qr_Zct"
   },
   "outputs": [
    {
     "name": "stdout",
     "output_type": "stream",
     "text": [
      "user_id       0\n",
      "track      1231\n",
      "artist     7203\n",
      "genre      1198\n",
      "city          0\n",
      "time          0\n",
      "day           0\n",
      "dtype: int64\n"
     ]
    }
   ],
   "source": [
    "# подсчёт пропусков\n",
    "print(df.isna().sum())"
   ]
  },
  {
   "cell_type": "markdown",
   "metadata": {
    "deletable": false,
    "editable": false,
    "id": "fSv2laPA_Zct",
    "tags": [
     "start_task"
    ]
   },
   "source": [
    "**Задание 10**"
   ]
  },
  {
   "cell_type": "code",
   "execution_count": 11,
   "metadata": {
    "deletable": false,
    "id": "KplB5qWs_Zct"
   },
   "outputs": [],
   "source": [
    "# замена пропущенных значений на 'unknown'\n",
    "columns_to_replace = ('track', 'artist', 'genre')\n",
    "for column in columns_to_replace:\n",
    "    df[column] = df[column].fillna('unknown')\n",
    "\n"
   ]
  },
  {
   "cell_type": "markdown",
   "metadata": {
    "deletable": false,
    "editable": false,
    "id": "Ilsm-MZo_Zct",
    "tags": [
     "start_task"
    ]
   },
   "source": [
    "**Задание 11**"
   ]
  },
  {
   "cell_type": "code",
   "execution_count": 12,
   "metadata": {
    "deletable": false,
    "id": "Tq4nYRX4_Zct"
   },
   "outputs": [
    {
     "name": "stdout",
     "output_type": "stream",
     "text": [
      "user_id    0\n",
      "track      0\n",
      "artist     0\n",
      "genre      0\n",
      "city       0\n",
      "time       0\n",
      "day        0\n",
      "dtype: int64\n"
     ]
    }
   ],
   "source": [
    "# проверка на отсутствие пропусков\n",
    "print(df.isna().sum())"
   ]
  },
  {
   "cell_type": "markdown",
   "metadata": {
    "deletable": false,
    "editable": false,
    "id": "BWKRtBJ3_Zct",
    "tags": [
     "start_task"
    ]
   },
   "source": [
    "### Обработка дубликатов\n",
    "\n",
    "**Задание 12**"
   ]
  },
  {
   "cell_type": "code",
   "execution_count": 13,
   "metadata": {
    "deletable": false,
    "id": "36eES_S0_Zct"
   },
   "outputs": [
    {
     "name": "stdout",
     "output_type": "stream",
     "text": [
      "3826\n"
     ]
    }
   ],
   "source": [
    "# подсчёт явных дубликатов\n",
    "print(df.duplicated().sum())\n"
   ]
  },
  {
   "cell_type": "markdown",
   "metadata": {
    "deletable": false,
    "editable": false,
    "id": "Ot25h6XR_Zct",
    "tags": [
     "start_task"
    ]
   },
   "source": [
    "**Задание 13**"
   ]
  },
  {
   "cell_type": "code",
   "execution_count": 14,
   "metadata": {
    "deletable": false,
    "id": "exFHq6tt_Zct",
    "scrolled": true
   },
   "outputs": [],
   "source": [
    "# удаление явных дубликатов, создание новых индексов и удаление старых\n",
    "df = df.drop_duplicates().reset_index(drop=True)"
   ]
  },
  {
   "cell_type": "markdown",
   "metadata": {
    "deletable": false,
    "editable": false,
    "id": "Im2YwBEG_Zct",
    "tags": [
     "start_task"
    ]
   },
   "source": [
    "**Задание 14**"
   ]
  },
  {
   "cell_type": "code",
   "execution_count": 15,
   "metadata": {
    "deletable": false,
    "id": "-8PuNWQ0_Zct"
   },
   "outputs": [
    {
     "name": "stdout",
     "output_type": "stream",
     "text": [
      "0\n"
     ]
    }
   ],
   "source": [
    "# проверка на отсутствие явных дубликатов\n",
    "print(df.duplicated().sum())"
   ]
  },
  {
   "cell_type": "markdown",
   "metadata": {
    "deletable": false,
    "editable": false,
    "id": "eSjWwsOh_Zct",
    "tags": [
     "start_task"
    ]
   },
   "source": [
    "**Задание 15**"
   ]
  },
  {
   "cell_type": "code",
   "execution_count": 16,
   "metadata": {
    "deletable": false,
    "id": "JIUcqzZN_Zct",
    "scrolled": true
   },
   "outputs": [
    {
     "name": "stdout",
     "output_type": "stream",
     "text": [
      "['acid', 'acoustic', 'action', 'adult', 'africa', 'afrikaans', 'alternative', 'alternativepunk', 'ambient', 'americana', 'animated', 'anime', 'arabesk', 'arabic', 'arena', 'argentinetango', 'art', 'audiobook', 'author', 'avantgarde', 'axé', 'baile', 'balkan', 'beats', 'bigroom', 'black', 'bluegrass', 'blues', 'bollywood', 'bossa', 'brazilian', 'breakbeat', 'breaks', 'broadway', 'cantautori', 'cantopop', 'canzone', 'caribbean', 'caucasian', 'celtic', 'chamber', 'chanson', 'children', 'chill', 'chinese', 'choral', 'christian', 'christmas', 'classical', 'classicmetal', 'club', 'colombian', 'comedy', 'conjazz', 'contemporary', 'country', 'cuban', 'dance', 'dancehall', 'dancepop', 'dark', 'death', 'deep', 'deutschrock', 'deutschspr', 'dirty', 'disco', 'dnb', 'documentary', 'downbeat', 'downtempo', 'drum', 'dub', 'dubstep', 'eastern', 'easy', 'electronic', 'electropop', 'emo', 'entehno', 'epicmetal', 'estrada', 'ethnic', 'eurofolk', 'european', 'experimental', 'extrememetal', 'fado', 'fairytail', 'film', 'fitness', 'flamenco', 'folk', 'folklore', 'folkmetal', 'folkrock', 'folktronica', 'forró', 'frankreich', 'französisch', 'french', 'funk', 'future', 'gangsta', 'garage', 'german', 'ghazal', 'gitarre', 'glitch', 'gospel', 'gothic', 'grime', 'grunge', 'gypsy', 'handsup', \"hard'n'heavy\", 'hardcore', 'hardstyle', 'hardtechno', 'hip', 'hip-hop', 'hiphop', 'historisch', 'holiday', 'hop', 'horror', 'house', 'hymn', 'idm', 'independent', 'indian', 'indie', 'indipop', 'industrial', 'inspirational', 'instrumental', 'international', 'irish', 'jam', 'japanese', 'jazz', 'jewish', 'jpop', 'jungle', 'k-pop', 'karadeniz', 'karaoke', 'kayokyoku', 'korean', 'laiko', 'latin', 'latino', 'leftfield', 'local', 'lounge', 'loungeelectronic', 'lovers', 'malaysian', 'mandopop', 'marschmusik', 'meditative', 'mediterranean', 'melodic', 'metal', 'metalcore', 'mexican', 'middle', 'minimal', 'miscellaneous', 'modern', 'mood', 'mpb', 'muslim', 'native', 'neoklassik', 'neue', 'new', 'newage', 'newwave', 'nu', 'nujazz', 'numetal', 'oceania', 'old', 'opera', 'orchestral', 'other', 'piano', 'podcasts', 'pop', 'popdance', 'popelectronic', 'popeurodance', 'poprussian', 'post', 'posthardcore', 'postrock', 'power', 'progmetal', 'progressive', 'psychedelic', 'punjabi', 'punk', 'quebecois', 'ragga', 'ram', 'rancheras', 'rap', 'rave', 'reggae', 'reggaeton', 'regional', 'relax', 'religious', 'retro', 'rhythm', 'rnb', 'rnr', 'rock', 'rockabilly', 'rockalternative', 'rockindie', 'rockother', 'romance', 'roots', 'ruspop', 'rusrap', 'rusrock', 'russian', 'salsa', 'samba', 'scenic', 'schlager', 'self', 'sertanejo', 'shanson', 'shoegazing', 'showtunes', 'singer', 'ska', 'skarock', 'slow', 'smooth', 'soft', 'soul', 'soulful', 'sound', 'soundtrack', 'southern', 'specialty', 'speech', 'spiritual', 'sport', 'stonerrock', 'surf', 'swing', 'synthpop', 'synthrock', 'sängerportrait', 'tango', 'tanzorchester', 'taraftar', 'tatar', 'tech', 'techno', 'teen', 'thrash', 'top', 'traditional', 'tradjazz', 'trance', 'tribal', 'trip', 'triphop', 'tropical', 'türk', 'türkçe', 'ukrrock', 'unknown', 'urban', 'uzbek', 'variété', 'vi', 'videogame', 'vocal', 'western', 'world', 'worldbeat', 'ïîï', 'электроника']\n"
     ]
    }
   ],
   "source": [
    "# просмотр уникальных отсортированных названий жанров\n",
    "print(sorted(df['genre'].unique()))\n"
   ]
  },
  {
   "cell_type": "markdown",
   "metadata": {
    "deletable": false,
    "editable": false,
    "id": "qej-Qmuo_Zct",
    "tags": [
     "start_task"
    ]
   },
   "source": [
    "**Задание 16**"
   ]
  },
  {
   "cell_type": "code",
   "execution_count": 17,
   "metadata": {
    "deletable": false,
    "id": "ErNDkmns_Zct"
   },
   "outputs": [],
   "source": [
    "# устранение неявных дубликатов\n",
    "df['genre'] = df['genre'].replace('hip','hiphop')\n",
    "df['genre'] = df['genre'].replace('hop','hiphop')\n",
    "df['genre'] = df['genre'].replace('hip-hop','hiphop')"
   ]
  },
  {
   "cell_type": "markdown",
   "metadata": {
    "deletable": false,
    "editable": false,
    "id": "zQKF16_RG15m",
    "tags": [
     "start_task"
    ]
   },
   "source": [
    "**Задание 17**"
   ]
  },
  {
   "cell_type": "code",
   "execution_count": 18,
   "metadata": {
    "deletable": false,
    "id": "wvixALnFG15m"
   },
   "outputs": [
    {
     "name": "stdout",
     "output_type": "stream",
     "text": [
      "['acid', 'acoustic', 'action', 'adult', 'africa', 'afrikaans', 'alternative', 'alternativepunk', 'ambient', 'americana', 'animated', 'anime', 'arabesk', 'arabic', 'arena', 'argentinetango', 'art', 'audiobook', 'author', 'avantgarde', 'axé', 'baile', 'balkan', 'beats', 'bigroom', 'black', 'bluegrass', 'blues', 'bollywood', 'bossa', 'brazilian', 'breakbeat', 'breaks', 'broadway', 'cantautori', 'cantopop', 'canzone', 'caribbean', 'caucasian', 'celtic', 'chamber', 'chanson', 'children', 'chill', 'chinese', 'choral', 'christian', 'christmas', 'classical', 'classicmetal', 'club', 'colombian', 'comedy', 'conjazz', 'contemporary', 'country', 'cuban', 'dance', 'dancehall', 'dancepop', 'dark', 'death', 'deep', 'deutschrock', 'deutschspr', 'dirty', 'disco', 'dnb', 'documentary', 'downbeat', 'downtempo', 'drum', 'dub', 'dubstep', 'eastern', 'easy', 'electronic', 'electropop', 'emo', 'entehno', 'epicmetal', 'estrada', 'ethnic', 'eurofolk', 'european', 'experimental', 'extrememetal', 'fado', 'fairytail', 'film', 'fitness', 'flamenco', 'folk', 'folklore', 'folkmetal', 'folkrock', 'folktronica', 'forró', 'frankreich', 'französisch', 'french', 'funk', 'future', 'gangsta', 'garage', 'german', 'ghazal', 'gitarre', 'glitch', 'gospel', 'gothic', 'grime', 'grunge', 'gypsy', 'handsup', \"hard'n'heavy\", 'hardcore', 'hardstyle', 'hardtechno', 'hiphop', 'historisch', 'holiday', 'horror', 'house', 'hymn', 'idm', 'independent', 'indian', 'indie', 'indipop', 'industrial', 'inspirational', 'instrumental', 'international', 'irish', 'jam', 'japanese', 'jazz', 'jewish', 'jpop', 'jungle', 'k-pop', 'karadeniz', 'karaoke', 'kayokyoku', 'korean', 'laiko', 'latin', 'latino', 'leftfield', 'local', 'lounge', 'loungeelectronic', 'lovers', 'malaysian', 'mandopop', 'marschmusik', 'meditative', 'mediterranean', 'melodic', 'metal', 'metalcore', 'mexican', 'middle', 'minimal', 'miscellaneous', 'modern', 'mood', 'mpb', 'muslim', 'native', 'neoklassik', 'neue', 'new', 'newage', 'newwave', 'nu', 'nujazz', 'numetal', 'oceania', 'old', 'opera', 'orchestral', 'other', 'piano', 'podcasts', 'pop', 'popdance', 'popelectronic', 'popeurodance', 'poprussian', 'post', 'posthardcore', 'postrock', 'power', 'progmetal', 'progressive', 'psychedelic', 'punjabi', 'punk', 'quebecois', 'ragga', 'ram', 'rancheras', 'rap', 'rave', 'reggae', 'reggaeton', 'regional', 'relax', 'religious', 'retro', 'rhythm', 'rnb', 'rnr', 'rock', 'rockabilly', 'rockalternative', 'rockindie', 'rockother', 'romance', 'roots', 'ruspop', 'rusrap', 'rusrock', 'russian', 'salsa', 'samba', 'scenic', 'schlager', 'self', 'sertanejo', 'shanson', 'shoegazing', 'showtunes', 'singer', 'ska', 'skarock', 'slow', 'smooth', 'soft', 'soul', 'soulful', 'sound', 'soundtrack', 'southern', 'specialty', 'speech', 'spiritual', 'sport', 'stonerrock', 'surf', 'swing', 'synthpop', 'synthrock', 'sängerportrait', 'tango', 'tanzorchester', 'taraftar', 'tatar', 'tech', 'techno', 'teen', 'thrash', 'top', 'traditional', 'tradjazz', 'trance', 'tribal', 'trip', 'triphop', 'tropical', 'türk', 'türkçe', 'ukrrock', 'unknown', 'urban', 'uzbek', 'variété', 'vi', 'videogame', 'vocal', 'western', 'world', 'worldbeat', 'ïîï', 'электроника']\n"
     ]
    }
   ],
   "source": [
    "# проверка на отсутствие неявных дубликатов\n",
    "print(sorted(df['genre'].unique()))"
   ]
  },
  {
   "cell_type": "markdown",
   "metadata": {
    "deletable": false,
    "editable": false,
    "id": "jz6a9-7HQUDd"
   },
   "source": [
    "**Выводы**\n",
    "\n",
    "Предобработка обнаружила три проблемы в данных:\n",
    "\n",
    "- нарушения в стиле заголовков,\n",
    "- пропущенные значения,\n",
    "- дубликаты — явные и неявные.\n",
    "\n",
    "Вы исправили заголовки, чтобы упростить работу с таблицей. Без дубликатов исследование станет более точным.\n",
    "\n",
    "Пропущенные значения вы заменили на `'unknown'`. Ещё предстоит увидеть, не повредят ли исследованию пропуски в колонке `genre`.\n",
    "\n",
    "Теперь можно перейти к проверке гипотез."
   ]
  },
  {
   "cell_type": "markdown",
   "metadata": {
    "deletable": false,
    "editable": false,
    "id": "WttZHXH0SqKk"
   },
   "source": [
    "## Проверка гипотез"
   ]
  },
  {
   "cell_type": "markdown",
   "metadata": {
    "deletable": false,
    "editable": false,
    "id": "Im936VVi_Zcu"
   },
   "source": [
    "### Сравнение поведения пользователей двух столиц"
   ]
  },
  {
   "cell_type": "markdown",
   "metadata": {
    "deletable": false,
    "editable": false,
    "id": "nwt_MuaL_Zcu"
   },
   "source": [
    "Первая гипотеза утверждает, что пользователи по-разному слушают музыку в Москве и Санкт-Петербурге. Проверим это предположение по данным о трёх днях недели — понедельнике, среде и пятнице. Для этого:\n",
    "\n",
    "* Разделим пользователей Москвы и Санкт-Петербурга.\n",
    "* Сравним, сколько треков послушала каждая группа пользователей в понедельник, среду и пятницу.\n"
   ]
  },
  {
   "cell_type": "markdown",
   "metadata": {
    "deletable": false,
    "id": "8Dw_YMmT_Zcu",
    "tags": [
     "start_task"
    ]
   },
   "source": [
    "**Задание 18**\n",
    "\n"
   ]
  },
  {
   "cell_type": "code",
   "execution_count": 19,
   "metadata": {
    "deletable": false,
    "id": "0_Qs96oh_Zcu"
   },
   "outputs": [
    {
     "name": "stdout",
     "output_type": "stream",
     "text": [
      "city\n",
      "Moscow              42741\n",
      "Saint-Petersburg    18512\n",
      "Name: time, dtype: int64\n"
     ]
    }
   ],
   "source": [
    "# подсчёт прослушиваний в каждом городе\n",
    "sum_cities = df.groupby('city')['time'].count()\n",
    "print(sum_cities)"
   ]
  },
  {
   "cell_type": "markdown",
   "metadata": {
    "id": "dzli3w8o_Zcu",
    "tags": [
     "start_task"
    ]
   },
   "source": [
    "**Задание 19**\n"
   ]
  },
  {
   "cell_type": "code",
   "execution_count": 20,
   "metadata": {
    "deletable": false,
    "id": "uZMKjiJz_Zcu"
   },
   "outputs": [
    {
     "name": "stdout",
     "output_type": "stream",
     "text": [
      "day\n",
      "Friday       21840\n",
      "Monday       21354\n",
      "Wednesday    18059\n",
      "Name: time, dtype: int64\n"
     ]
    }
   ],
   "source": [
    "# подсчёт прослушиваний в каждый из трёх дней\n",
    "sum_cities = df.groupby('day')['time'].count()\n",
    "print(sum_cities)"
   ]
  },
  {
   "cell_type": "markdown",
   "metadata": {
    "deletable": false,
    "editable": false,
    "id": "POzs8bGa_Zcu",
    "tags": [
     "start_task"
    ]
   },
   "source": [
    "**Задание 20**"
   ]
  },
  {
   "cell_type": "code",
   "execution_count": 21,
   "metadata": {
    "deletable": false,
    "id": "Nz3GdQB1_Zcu"
   },
   "outputs": [],
   "source": [
    "def number_tracks(day, city):\n",
    "    track_list = df[df['day'] == day]\n",
    "    track_list = track_list[track_list['city'] == city]\n",
    "    # выберите только строки track_list со значением переменной city в столбце city\n",
    "    track_list_count = track_list['user_id'].count()\n",
    "    # вызовите метод подсчета строк для track_list и выберите столбец user_id\n",
    "    return track_list_count\n",
    "# верните значение track_list_count из функции\n"
   ]
  },
  {
   "cell_type": "markdown",
   "metadata": {
    "deletable": false,
    "editable": false,
    "id": "ytf7xFrFJQ2r",
    "tags": [
     "start_task"
    ]
   },
   "source": [
    "**Задание 21**"
   ]
  },
  {
   "cell_type": "code",
   "execution_count": 22,
   "metadata": {
    "deletable": false,
    "id": "rJcRATNQ_Zcu"
   },
   "outputs": [
    {
     "data": {
      "text/plain": [
       "15740"
      ]
     },
     "execution_count": 22,
     "metadata": {},
     "output_type": "execute_result"
    }
   ],
   "source": [
    "# количество прослушиваний в Москве по понедельникам\n",
    "number_tracks('Monday', 'Moscow')"
   ]
  },
  {
   "cell_type": "code",
   "execution_count": 23,
   "metadata": {
    "deletable": false,
    "id": "hq_ncZ5T_Zcu"
   },
   "outputs": [
    {
     "data": {
      "text/plain": [
       "5614"
      ]
     },
     "execution_count": 23,
     "metadata": {},
     "output_type": "execute_result"
    }
   ],
   "source": [
    "# количество прослушиваний в Санкт-Петербурге по понедельникам\n",
    "number_tracks('Monday', 'Saint-Petersburg')"
   ]
  },
  {
   "cell_type": "code",
   "execution_count": 24,
   "metadata": {
    "deletable": false,
    "id": "_NTy2VPU_Zcu"
   },
   "outputs": [
    {
     "data": {
      "text/plain": [
       "11056"
      ]
     },
     "execution_count": 24,
     "metadata": {},
     "output_type": "execute_result"
    }
   ],
   "source": [
    "# количество прослушиваний в Москве по средам\n",
    "number_tracks('Wednesday', 'Moscow')"
   ]
  },
  {
   "cell_type": "code",
   "execution_count": 25,
   "metadata": {
    "deletable": false,
    "id": "j2y3TAwo_Zcu"
   },
   "outputs": [
    {
     "data": {
      "text/plain": [
       "7003"
      ]
     },
     "execution_count": 25,
     "metadata": {},
     "output_type": "execute_result"
    }
   ],
   "source": [
    "# количество прослушиваний в Санкт-Петербурге по средам\n",
    "number_tracks('Wednesday', 'Saint-Petersburg')"
   ]
  },
  {
   "cell_type": "code",
   "execution_count": 26,
   "metadata": {
    "deletable": false,
    "id": "vYDw5u_K_Zcu"
   },
   "outputs": [
    {
     "data": {
      "text/plain": [
       "15945"
      ]
     },
     "execution_count": 26,
     "metadata": {},
     "output_type": "execute_result"
    }
   ],
   "source": [
    "# количество прослушиваний в Москве по пятницам\n",
    "number_tracks('Friday', 'Moscow')"
   ]
  },
  {
   "cell_type": "code",
   "execution_count": 27,
   "metadata": {
    "deletable": false,
    "id": "8_yzFtW3_Zcu"
   },
   "outputs": [
    {
     "data": {
      "text/plain": [
       "5895"
      ]
     },
     "execution_count": 27,
     "metadata": {},
     "output_type": "execute_result"
    }
   ],
   "source": [
    "# количество прослушиваний в Санкт-Петербурге по пятницам\n",
    "number_tracks('Friday', 'Saint-Petersburg')"
   ]
  },
  {
   "cell_type": "markdown",
   "metadata": {
    "deletable": false,
    "editable": false,
    "id": "7QXffbO-_Zcu",
    "tags": [
     "start_task"
    ]
   },
   "source": [
    "**Задание 22**"
   ]
  },
  {
   "cell_type": "code",
   "execution_count": 33,
   "metadata": {
    "deletable": false,
    "id": "APAcLpOr_Zcu"
   },
   "outputs": [
    {
     "name": "stdout",
     "output_type": "stream",
     "text": [
      "              city  monday  wednesday  friday\n",
      "0           Москва   15740      11056   15945\n",
      "1  Санкт-Петербург    5614       7003    5895\n"
     ]
    }
   ],
   "source": [
    "# создание таблицы с результатами\n",
    "# вывод таблицы на экран\n",
    "info = pd.DataFrame(data = [['Москва', 15740, 11056, 15945],['Санкт-Петербург', 5614, 7003, 5895]], columns = ['city', 'monday', 'wednesday', 'friday'])\n",
    "print(info)"
   ]
  },
  {
   "cell_type": "markdown",
   "metadata": {
    "deletable": false,
    "editable": false,
    "id": "-EgPIHYu_Zcu"
   },
   "source": [
    "**Выводы**\n",
    "\n",
    "Данные показывают разницу поведения пользователей:\n",
    "\n",
    "- В Москве пик прослушиваний приходится на понедельник и пятницу, а в среду заметен спад.\n",
    "- В Петербурге, наоборот, больше слушают музыку по средам. Активность в понедельник и пятницу здесь почти в равной мере уступает среде.\n",
    "\n",
    "Значит, данные говорят в пользу первой гипотезы."
   ]
  },
  {
   "cell_type": "markdown",
   "metadata": {
    "deletable": false,
    "editable": false,
    "id": "atZAxtq4_Zcu"
   },
   "source": [
    "### Музыка в начале и в конце недели"
   ]
  },
  {
   "cell_type": "markdown",
   "metadata": {
    "deletable": false,
    "editable": false,
    "id": "eXrQqXFH_Zcu"
   },
   "source": [
    "Согласно второй гипотезе, утром в понедельник в Москве преобладают одни жанры, а в Петербурге — другие. Так же и вечером пятницы преобладают разные жанры — в зависимости от города."
   ]
  },
  {
   "cell_type": "markdown",
   "metadata": {
    "deletable": false,
    "editable": false,
    "id": "S8UcW6Hw_Zcu",
    "tags": [
     "start_task"
    ]
   },
   "source": [
    "**Задание 23**"
   ]
  },
  {
   "cell_type": "code",
   "execution_count": 34,
   "metadata": {
    "deletable": false,
    "id": "qeaFfM_P_Zcu"
   },
   "outputs": [],
   "source": [
    "# получение таблицы moscow_general из тех строк таблицы df, для которых значение в столбце 'city' равно 'Moscow'\n",
    "moscow_general = df[df['city'] == 'Moscow']\n"
   ]
  },
  {
   "cell_type": "code",
   "execution_count": 35,
   "metadata": {
    "deletable": false,
    "id": "ORaVRKto_Zcu"
   },
   "outputs": [],
   "source": [
    "# получение таблицы spb_general из тех строк таблицы df, для которых значение в столбце 'city' равно 'Saint-Petersburg'\n",
    "spb_general = df[df['city'] == 'Saint-Petersburg']"
   ]
  },
  {
   "cell_type": "markdown",
   "metadata": {
    "deletable": false,
    "editable": false,
    "id": "MEJV-CX2_Zcu",
    "tags": [
     "start_task"
    ]
   },
   "source": [
    "**Задание 24**"
   ]
  },
  {
   "cell_type": "code",
   "execution_count": 40,
   "metadata": {
    "deletable": false,
    "id": "laJT9BYl_Zcu"
   },
   "outputs": [],
   "source": [
    "def genre_weekday(df, day, time1, time2):\n",
    "    # последовательная фильтрация\n",
    "    # оставляем в genre_df только те строки df, у которых день равен day\n",
    "    genre_df = df[df['day'] == day]\n",
    "    # оставляем в genre_df только те строки genre_df, у которых время меньше time2\n",
    "    genre_df = genre_df[genre_df['time']<time2]\n",
    "    # оставляем в genre_df только те строки genre_df, у которых время больше time1\n",
    "    genre_df = genre_df[genre_df['time']>time1]\n",
    "    # сгруппируем отфильтрованный датафрейм по столбцу с названиями жанров, возьмём столбец genre и посчитаем кол-во строк для каждого жанра методом count()\n",
    "    genre_df_grouped = genre_df.groupby('genre')['genre'].count()\n",
    "    # отсортируем результат по убыванию (чтобы в начале Series оказались самые популярные жанры)\n",
    "    genre_df_sorted = genre_df_grouped.sort_values(ascending=False)\n",
    "    # вернём Series с 10 самыми популярными жанрами в указанный отрезок времени заданного дня\n",
    "    return genre_df_sorted[:10]\n"
   ]
  },
  {
   "cell_type": "markdown",
   "metadata": {
    "deletable": false,
    "editable": false,
    "id": "la2s2_PF_Zcu",
    "tags": [
     "start_task"
    ]
   },
   "source": [
    "**Задание 25**"
   ]
  },
  {
   "cell_type": "code",
   "execution_count": 42,
   "metadata": {
    "deletable": false,
    "id": "yz7itPUQ_Zcu"
   },
   "outputs": [
    {
     "data": {
      "text/plain": [
       "genre\n",
       "pop            781\n",
       "dance          549\n",
       "electronic     480\n",
       "rock           474\n",
       "hiphop         286\n",
       "ruspop         186\n",
       "world          181\n",
       "rusrap         175\n",
       "alternative    164\n",
       "unknown        161\n",
       "Name: genre, dtype: int64"
      ]
     },
     "execution_count": 42,
     "metadata": {},
     "output_type": "execute_result"
    }
   ],
   "source": [
    "# вызов функции для утра понедельника в Москве (вместо df — таблица moscow_general)\n",
    "genre_weekday(moscow_general, 'Monday','07:00', '11:00')"
   ]
  },
  {
   "cell_type": "code",
   "execution_count": 43,
   "metadata": {
    "deletable": false,
    "id": "kwUcHPdy_Zcu"
   },
   "outputs": [
    {
     "data": {
      "text/plain": [
       "genre\n",
       "pop            218\n",
       "dance          182\n",
       "rock           162\n",
       "electronic     147\n",
       "hiphop          80\n",
       "ruspop          64\n",
       "alternative     58\n",
       "rusrap          55\n",
       "jazz            44\n",
       "classical       40\n",
       "Name: genre, dtype: int64"
      ]
     },
     "execution_count": 43,
     "metadata": {},
     "output_type": "execute_result"
    }
   ],
   "source": [
    "# вызов функции для утра понедельника в Петербурге (вместо df — таблица spb_general)\n",
    "genre_weekday(spb_general, 'Monday','07:00', '11:00')"
   ]
  },
  {
   "cell_type": "code",
   "execution_count": 44,
   "metadata": {
    "deletable": false,
    "id": "EzXVRE1o_Zcu"
   },
   "outputs": [
    {
     "data": {
      "text/plain": [
       "genre\n",
       "pop            713\n",
       "rock           517\n",
       "dance          495\n",
       "electronic     482\n",
       "hiphop         273\n",
       "world          208\n",
       "ruspop         170\n",
       "alternative    163\n",
       "classical      163\n",
       "rusrap         142\n",
       "Name: genre, dtype: int64"
      ]
     },
     "execution_count": 44,
     "metadata": {},
     "output_type": "execute_result"
    }
   ],
   "source": [
    "# вызов функции для вечера пятницы в Москве\n",
    "genre_weekday(moscow_general, 'Friday','17:00', '23:00')"
   ]
  },
  {
   "cell_type": "code",
   "execution_count": 45,
   "metadata": {
    "deletable": false,
    "id": "JZaEKu5v_Zcu"
   },
   "outputs": [
    {
     "data": {
      "text/plain": [
       "genre\n",
       "pop            256\n",
       "electronic     216\n",
       "rock           216\n",
       "dance          210\n",
       "hiphop          97\n",
       "alternative     63\n",
       "jazz            61\n",
       "classical       60\n",
       "rusrap          59\n",
       "world           54\n",
       "Name: genre, dtype: int64"
      ]
     },
     "execution_count": 45,
     "metadata": {},
     "output_type": "execute_result"
    }
   ],
   "source": [
    "# вызов функции для вечера пятницы в Петербурге\n",
    "genre_weekday(spb_general, 'Friday','17:00', '23:00')"
   ]
  },
  {
   "cell_type": "markdown",
   "metadata": {
    "deletable": false,
    "editable": false,
    "id": "wrCe4MNX_Zcu"
   },
   "source": [
    "**Выводы**\n",
    "\n",
    "Если сравнить топ-10 жанров в понедельник утром, можно сделать такие выводы:\n",
    "\n",
    "1. В Москве и Петербурге слушают похожую музыку. Единственное различие — в московский рейтинг вошёл жанр “world”, а в петербургский — джаз и классика.\n",
    "\n",
    "2. В Москве пропущенных значений оказалось так много, что значение `'unknown'` заняло десятое место среди самых популярных жанров. Значит, пропущенные значения занимают существенную долю в данных и угрожают достоверности исследования.\n",
    "\n",
    "Вечер пятницы не меняет эту картину. Некоторые жанры поднимаются немного выше, другие спускаются, но в целом топ-10 остаётся тем же самым.\n",
    "\n",
    "Таким образом, вторая гипотеза подтвердилась лишь частично:\n",
    "* Пользователи слушают похожую музыку в начале недели и в конце.\n",
    "* Разница между Москвой и Петербургом не слишком выражена. В Москве чаще слушают русскую популярную музыку, в Петербурге — джаз.\n",
    "\n",
    "Однако пропуски в данных ставят под сомнение этот результат. В Москве их так много, что рейтинг топ-10 мог бы выглядеть иначе, если бы не утерянные  данные о жанрах."
   ]
  },
  {
   "cell_type": "markdown",
   "metadata": {
    "deletable": false,
    "editable": false,
    "id": "JolODAqr_Zcu"
   },
   "source": [
    "### Жанровые предпочтения в Москве и Петербурге\n",
    "\n",
    "Гипотеза: Петербург — столица рэпа, музыку этого жанра там слушают чаще, чем в Москве.  А Москва — город контрастов, в котором, тем не менее, преобладает поп-музыка."
   ]
  },
  {
   "cell_type": "markdown",
   "metadata": {
    "deletable": false,
    "editable": false,
    "id": "DlegSvaT_Zcu",
    "tags": [
     "start_task"
    ]
   },
   "source": [
    "**Задание 26**"
   ]
  },
  {
   "cell_type": "code",
   "execution_count": 51,
   "metadata": {
    "deletable": false,
    "id": "r19lIPke_Zcu"
   },
   "outputs": [],
   "source": [
    "# одной строкой: группировка таблицы moscow_general по столбцу 'genre', выбор столбца `genre`,\n",
    "# подсчёт числа значений 'genre' методом count(), сохранение в moscow_genres\n",
    "moscow_genres = moscow_general.groupby('genre')['genre'].count()\n",
    "\n",
    "# сортировка получившегося Series в порядке убывания и сохранение обратно в moscow_genres\n",
    "moscow_genres = moscow_genres.sort_values(ascending=False)\n"
   ]
  },
  {
   "cell_type": "markdown",
   "metadata": {
    "deletable": false,
    "editable": false,
    "id": "6kMuomxTiIr8",
    "tags": [
     "start_task"
    ]
   },
   "source": [
    "**Задание 27**"
   ]
  },
  {
   "cell_type": "code",
   "execution_count": 52,
   "metadata": {
    "deletable": false,
    "id": "WhCSooF8_Zcv"
   },
   "outputs": [
    {
     "name": "stdout",
     "output_type": "stream",
     "text": [
      "genre\n",
      "pop            5892\n",
      "dance          4435\n",
      "rock           3965\n",
      "electronic     3786\n",
      "hiphop         2096\n",
      "classical      1616\n",
      "world          1432\n",
      "alternative    1379\n",
      "ruspop         1372\n",
      "rusrap         1161\n",
      "Name: genre, dtype: int64\n"
     ]
    }
   ],
   "source": [
    "# просмотр первых 10 строк moscow_genres\n",
    "print(moscow_genres.head(10))"
   ]
  },
  {
   "cell_type": "markdown",
   "metadata": {
    "deletable": false,
    "editable": false,
    "id": "cnPG2vnN_Zcv",
    "tags": [
     "start_task"
    ]
   },
   "source": [
    "**Задание 28**"
   ]
  },
  {
   "cell_type": "code",
   "execution_count": 54,
   "metadata": {
    "deletable": false,
    "id": "gluLIpE7_Zcv"
   },
   "outputs": [],
   "source": [
    "# одной строкой: группировка таблицы spb_general по столбцу 'genre', выбор столбца `genre`, подсчёт числа значений 'genre' методом count(), сохранение в spb_genres\n",
    "spb_genres = spb_general.groupby('genre')['genre'].count()\n",
    "\n",
    "# сортировка получившегося Series в порядке убывания и сохранение обратно в spb_genres\n",
    "spb_genres = spb_genres.sort_values(ascending=False)"
   ]
  },
  {
   "cell_type": "markdown",
   "metadata": {
    "deletable": false,
    "editable": false,
    "id": "5Doha_ODgyQ8",
    "tags": [
     "start_task"
    ]
   },
   "source": [
    "**Задание 29**"
   ]
  },
  {
   "cell_type": "code",
   "execution_count": 55,
   "metadata": {
    "deletable": false,
    "id": "uaGJHjVU_Zcv"
   },
   "outputs": [
    {
     "name": "stdout",
     "output_type": "stream",
     "text": [
      "genre\n",
      "pop            2431\n",
      "dance          1932\n",
      "rock           1879\n",
      "electronic     1736\n",
      "hiphop          960\n",
      "alternative     649\n",
      "classical       646\n",
      "rusrap          564\n",
      "ruspop          538\n",
      "world           515\n",
      "Name: genre, dtype: int64\n"
     ]
    }
   ],
   "source": [
    "# просмотр первых 10 строк spb_genres\n",
    "print(spb_genres.head(10))"
   ]
  },
  {
   "cell_type": "markdown",
   "metadata": {
    "deletable": false,
    "editable": false,
    "id": "RY51YJYu_Zcv"
   },
   "source": [
    "**Выводы**"
   ]
  },
  {
   "cell_type": "markdown",
   "metadata": {
    "deletable": false,
    "editable": false,
    "id": "nVhnJEm__Zcv"
   },
   "source": [
    "Гипотеза частично подтвердилась:\n",
    "* Поп-музыка — самый популярный жанр в Москве, как и предполагала гипотеза. Более того, в топ-10 жанров встречается близкий жанр — русская популярная музыка.\n",
    "* Вопреки ожиданиям, рэп одинаково популярен в Москве и Петербурге.\n"
   ]
  },
  {
   "cell_type": "markdown",
   "metadata": {
    "deletable": false,
    "editable": false,
    "id": "ykKQ0N65_Zcv"
   },
   "source": [
    "## Итоги исследования"
   ]
  },
  {
   "cell_type": "markdown",
   "metadata": {
    "deletable": false,
    "editable": false,
    "id": "tjUwbHb3_Zcv"
   },
   "source": [
    "Вы проверили три гипотезы и установили:\n",
    "\n",
    "1. День недели по-разному влияет на активность пользователей в Москве и Петербурге.\n",
    "\n",
    "Первая гипотеза полностью подтвердилась.\n",
    "\n",
    "2. Музыкальные предпочтения не сильно меняются в течение недели — будь то Москва или Петербург. Небольшие различия заметны в начале недели, по понедельникам:\n",
    "* в Москве слушают музыку жанра “world”,\n",
    "* в Петербурге — джаз и классику.\n",
    "\n",
    "Таким образом, вторая гипотеза подтвердилась лишь отчасти. Этот результат мог оказаться иным, если бы не пропуски в данных.\n",
    "\n",
    "3. Во вкусах пользователей Москвы и Петербурга больше общего, чем различий. Вопреки ожиданиям, предпочтения жанров в Петербурге напоминают московские.\n",
    "\n",
    "Третья гипотеза не подтвердилась. Если различия в предпочтениях и существуют, на основной массе пользователей они незаметны.\n",
    "\n",
    "**На практике исследования содержат проверки статистических гипотез.**\n",
    "Из части данных одного сервиса невозможно сделать какие-то выводы о всех пользователях сервиса без методов статистики.\n",
    "Проверки статистических гипотез покажут, насколько они достоверны, исходя из имеющихся данных.\n",
    "С методами проверок гипотез вы ещё познакомитесь в следующих темах."
   ]
  }
 ],
 "metadata": {
  "ExecuteTimeLog": [
   {
    "duration": 415,
    "start_time": "2024-02-12T15:48:14.595Z"
   },
   {
    "duration": 74,
    "start_time": "2024-02-12T15:49:21.582Z"
   },
   {
    "duration": 266,
    "start_time": "2024-02-12T15:50:18.206Z"
   },
   {
    "duration": 206,
    "start_time": "2024-02-12T15:50:21.275Z"
   },
   {
    "duration": 51,
    "start_time": "2024-02-12T15:50:37.820Z"
   },
   {
    "duration": 407,
    "start_time": "2024-02-12T15:52:11.387Z"
   },
   {
    "duration": 196,
    "start_time": "2024-02-12T15:52:17.220Z"
   },
   {
    "duration": 75,
    "start_time": "2024-02-12T15:57:04.136Z"
   },
   {
    "duration": 81,
    "start_time": "2024-02-12T15:57:21.690Z"
   },
   {
    "duration": 80,
    "start_time": "2024-02-12T15:58:13.548Z"
   },
   {
    "duration": 8,
    "start_time": "2024-02-12T15:58:47.160Z"
   },
   {
    "duration": 64,
    "start_time": "2024-02-12T15:59:02.571Z"
   },
   {
    "duration": 9,
    "start_time": "2024-02-12T15:59:40.506Z"
   },
   {
    "duration": 411,
    "start_time": "2024-02-12T16:02:40.205Z"
   },
   {
    "duration": 205,
    "start_time": "2024-02-12T16:02:45.337Z"
   },
   {
    "duration": 3,
    "start_time": "2024-02-12T16:06:34.112Z"
   },
   {
    "duration": 2,
    "start_time": "2024-02-12T16:07:57.386Z"
   },
   {
    "duration": 12,
    "start_time": "2024-02-12T16:08:57.033Z"
   },
   {
    "duration": 10,
    "start_time": "2024-02-12T16:09:58.137Z"
   },
   {
    "duration": 4,
    "start_time": "2024-02-12T16:18:05.942Z"
   },
   {
    "duration": 74,
    "start_time": "2024-02-12T16:20:49.341Z"
   },
   {
    "duration": 15,
    "start_time": "2024-02-12T16:21:03.873Z"
   },
   {
    "duration": 3,
    "start_time": "2024-02-12T16:21:33.317Z"
   },
   {
    "duration": 4,
    "start_time": "2024-02-12T16:22:11.680Z"
   },
   {
    "duration": 6,
    "start_time": "2024-02-12T16:23:43.675Z"
   },
   {
    "duration": 4,
    "start_time": "2024-02-12T16:27:17.863Z"
   },
   {
    "duration": 3,
    "start_time": "2024-02-12T16:27:25.838Z"
   },
   {
    "duration": 5,
    "start_time": "2024-02-12T16:43:06.708Z"
   },
   {
    "duration": 5,
    "start_time": "2024-02-12T16:43:59.619Z"
   },
   {
    "duration": 5,
    "start_time": "2024-02-12T16:49:38.155Z"
   },
   {
    "duration": 33,
    "start_time": "2024-02-12T16:52:08.573Z"
   },
   {
    "duration": 8,
    "start_time": "2024-02-12T16:52:18.988Z"
   },
   {
    "duration": 8,
    "start_time": "2024-02-12T16:52:36.713Z"
   },
   {
    "duration": 9,
    "start_time": "2024-02-12T16:53:29.739Z"
   },
   {
    "duration": 63,
    "start_time": "2024-02-12T16:54:41.813Z"
   },
   {
    "duration": 6,
    "start_time": "2024-02-12T16:55:23.917Z"
   },
   {
    "duration": 51,
    "start_time": "2024-02-12T16:56:39.759Z"
   },
   {
    "duration": 52,
    "start_time": "2024-02-12T16:57:53.127Z"
   },
   {
    "duration": 51,
    "start_time": "2024-02-12T16:58:25.524Z"
   },
   {
    "duration": 431,
    "start_time": "2024-02-12T17:00:26.930Z"
   },
   {
    "duration": 208,
    "start_time": "2024-02-12T17:00:27.363Z"
   },
   {
    "duration": 9,
    "start_time": "2024-02-12T17:00:27.572Z"
   },
   {
    "duration": 35,
    "start_time": "2024-02-12T17:00:27.583Z"
   },
   {
    "duration": 2,
    "start_time": "2024-02-12T17:00:27.620Z"
   },
   {
    "duration": 7,
    "start_time": "2024-02-12T17:00:27.624Z"
   },
   {
    "duration": 38,
    "start_time": "2024-02-12T17:00:27.632Z"
   },
   {
    "duration": 9,
    "start_time": "2024-02-12T17:00:27.672Z"
   },
   {
    "duration": 29,
    "start_time": "2024-02-12T17:00:27.683Z"
   },
   {
    "duration": 20,
    "start_time": "2024-02-12T17:00:27.714Z"
   },
   {
    "duration": 29,
    "start_time": "2024-02-12T17:00:27.758Z"
   },
   {
    "duration": 84,
    "start_time": "2024-02-12T17:00:27.788Z"
   },
   {
    "duration": 52,
    "start_time": "2024-02-12T17:00:45.276Z"
   },
   {
    "duration": 435,
    "start_time": "2024-02-12T17:01:01.704Z"
   },
   {
    "duration": 209,
    "start_time": "2024-02-12T17:01:02.141Z"
   },
   {
    "duration": 8,
    "start_time": "2024-02-12T17:01:02.352Z"
   },
   {
    "duration": 48,
    "start_time": "2024-02-12T17:01:02.362Z"
   },
   {
    "duration": 60,
    "start_time": "2024-02-12T17:01:02.412Z"
   },
   {
    "duration": 11,
    "start_time": "2024-02-12T17:01:02.474Z"
   },
   {
    "duration": 25,
    "start_time": "2024-02-12T17:01:02.487Z"
   },
   {
    "duration": 15,
    "start_time": "2024-02-12T17:01:02.514Z"
   },
   {
    "duration": 38,
    "start_time": "2024-02-12T17:01:02.531Z"
   },
   {
    "duration": 25,
    "start_time": "2024-02-12T17:01:02.571Z"
   },
   {
    "duration": 28,
    "start_time": "2024-02-12T17:01:02.598Z"
   },
   {
    "duration": 89,
    "start_time": "2024-02-12T17:01:02.628Z"
   },
   {
    "duration": 3,
    "start_time": "2024-02-12T17:01:10.908Z"
   },
   {
    "duration": 220,
    "start_time": "2024-02-12T17:01:10.914Z"
   },
   {
    "duration": 8,
    "start_time": "2024-02-12T17:01:11.136Z"
   },
   {
    "duration": 49,
    "start_time": "2024-02-12T17:01:11.146Z"
   },
   {
    "duration": 2,
    "start_time": "2024-02-12T17:01:11.197Z"
   },
   {
    "duration": 3,
    "start_time": "2024-02-12T17:01:11.202Z"
   },
   {
    "duration": 10,
    "start_time": "2024-02-12T17:01:11.207Z"
   },
   {
    "duration": 4,
    "start_time": "2024-02-12T17:01:11.219Z"
   },
   {
    "duration": 60,
    "start_time": "2024-02-12T17:01:11.224Z"
   },
   {
    "duration": 27,
    "start_time": "2024-02-12T17:01:11.285Z"
   },
   {
    "duration": 28,
    "start_time": "2024-02-12T17:01:11.314Z"
   },
   {
    "duration": 80,
    "start_time": "2024-02-12T17:01:11.343Z"
   },
   {
    "duration": 87,
    "start_time": "2024-02-12T17:01:11.425Z"
   },
   {
    "duration": 64,
    "start_time": "2024-02-12T17:02:05.612Z"
   },
   {
    "duration": 65,
    "start_time": "2024-02-13T10:24:17.411Z"
   },
   {
    "duration": 51,
    "start_time": "2024-02-13T10:24:56.104Z"
   },
   {
    "duration": 409,
    "start_time": "2024-02-13T10:25:17.548Z"
   },
   {
    "duration": 241,
    "start_time": "2024-02-13T10:25:17.959Z"
   },
   {
    "duration": 8,
    "start_time": "2024-02-13T10:25:18.202Z"
   },
   {
    "duration": 39,
    "start_time": "2024-02-13T10:25:18.212Z"
   },
   {
    "duration": 8,
    "start_time": "2024-02-13T10:25:18.253Z"
   },
   {
    "duration": 19,
    "start_time": "2024-02-13T10:25:18.262Z"
   },
   {
    "duration": 21,
    "start_time": "2024-02-13T10:25:18.282Z"
   },
   {
    "duration": 10,
    "start_time": "2024-02-13T10:25:18.305Z"
   },
   {
    "duration": 36,
    "start_time": "2024-02-13T10:25:18.316Z"
   },
   {
    "duration": 35,
    "start_time": "2024-02-13T10:25:18.355Z"
   },
   {
    "duration": 28,
    "start_time": "2024-02-13T10:25:18.392Z"
   },
   {
    "duration": 84,
    "start_time": "2024-02-13T10:25:18.422Z"
   },
   {
    "duration": 83,
    "start_time": "2024-02-13T10:25:18.508Z"
   },
   {
    "duration": 66,
    "start_time": "2024-02-13T10:25:18.593Z"
   },
   {
    "duration": 1200,
    "start_time": "2024-02-13T10:25:18.661Z"
   },
   {
    "duration": 58,
    "start_time": "2024-02-13T10:27:05.531Z"
   },
   {
    "duration": 45,
    "start_time": "2024-02-13T10:27:19.048Z"
   },
   {
    "duration": 7,
    "start_time": "2024-02-13T10:27:27.640Z"
   },
   {
    "duration": 6,
    "start_time": "2024-02-13T10:27:34.060Z"
   },
   {
    "duration": 6,
    "start_time": "2024-02-13T10:27:36.554Z"
   },
   {
    "duration": 8,
    "start_time": "2024-02-13T10:27:38.079Z"
   },
   {
    "duration": 7,
    "start_time": "2024-02-13T10:27:41.206Z"
   },
   {
    "duration": 6,
    "start_time": "2024-02-13T10:27:42.525Z"
   },
   {
    "duration": 6,
    "start_time": "2024-02-13T10:27:43.515Z"
   },
   {
    "duration": 5,
    "start_time": "2024-02-13T10:27:44.473Z"
   },
   {
    "duration": 6,
    "start_time": "2024-02-13T10:27:45.407Z"
   },
   {
    "duration": 5,
    "start_time": "2024-02-13T10:27:46.811Z"
   },
   {
    "duration": 5,
    "start_time": "2024-02-13T10:27:47.802Z"
   },
   {
    "duration": 5,
    "start_time": "2024-02-13T10:27:48.888Z"
   },
   {
    "duration": 6,
    "start_time": "2024-02-13T10:27:50.111Z"
   },
   {
    "duration": 5,
    "start_time": "2024-02-13T10:27:51.251Z"
   },
   {
    "duration": 6,
    "start_time": "2024-02-13T10:27:52.750Z"
   },
   {
    "duration": 7,
    "start_time": "2024-02-13T10:27:55.318Z"
   },
   {
    "duration": 377,
    "start_time": "2024-02-13T10:28:07.387Z"
   },
   {
    "duration": 173,
    "start_time": "2024-02-13T10:28:07.767Z"
   },
   {
    "duration": 8,
    "start_time": "2024-02-13T10:28:07.941Z"
   },
   {
    "duration": 34,
    "start_time": "2024-02-13T10:28:07.951Z"
   },
   {
    "duration": 3,
    "start_time": "2024-02-13T10:28:07.986Z"
   },
   {
    "duration": 5,
    "start_time": "2024-02-13T10:28:07.990Z"
   },
   {
    "duration": 37,
    "start_time": "2024-02-13T10:28:07.996Z"
   },
   {
    "duration": 7,
    "start_time": "2024-02-13T10:28:08.035Z"
   },
   {
    "duration": 26,
    "start_time": "2024-02-13T10:28:08.043Z"
   },
   {
    "duration": 19,
    "start_time": "2024-02-13T10:28:08.072Z"
   },
   {
    "duration": 44,
    "start_time": "2024-02-13T10:28:08.092Z"
   },
   {
    "duration": 64,
    "start_time": "2024-02-13T10:28:08.137Z"
   },
   {
    "duration": 95,
    "start_time": "2024-02-13T10:28:08.202Z"
   },
   {
    "duration": 65,
    "start_time": "2024-02-13T10:28:08.299Z"
   },
   {
    "duration": 7,
    "start_time": "2024-02-13T10:28:08.365Z"
   },
   {
    "duration": 51,
    "start_time": "2024-02-13T10:30:54.408Z"
   },
   {
    "duration": 407,
    "start_time": "2024-02-13T10:36:34.144Z"
   },
   {
    "duration": 212,
    "start_time": "2024-02-13T10:36:34.557Z"
   },
   {
    "duration": 10,
    "start_time": "2024-02-13T10:36:34.771Z"
   },
   {
    "duration": 30,
    "start_time": "2024-02-13T10:36:34.783Z"
   },
   {
    "duration": 10,
    "start_time": "2024-02-13T10:36:34.814Z"
   },
   {
    "duration": 41,
    "start_time": "2024-02-13T10:36:34.826Z"
   },
   {
    "duration": 14,
    "start_time": "2024-02-13T10:36:34.872Z"
   },
   {
    "duration": 27,
    "start_time": "2024-02-13T10:36:34.888Z"
   },
   {
    "duration": 72,
    "start_time": "2024-02-13T10:36:34.917Z"
   },
   {
    "duration": 86,
    "start_time": "2024-02-13T10:36:34.991Z"
   },
   {
    "duration": 68,
    "start_time": "2024-02-13T10:36:35.079Z"
   },
   {
    "duration": 118,
    "start_time": "2024-02-13T10:36:35.153Z"
   },
   {
    "duration": 124,
    "start_time": "2024-02-13T10:36:35.274Z"
   },
   {
    "duration": 87,
    "start_time": "2024-02-13T10:36:35.400Z"
   },
   {
    "duration": 7,
    "start_time": "2024-02-13T10:36:35.489Z"
   },
   {
    "duration": 19,
    "start_time": "2024-02-13T10:36:35.498Z"
   },
   {
    "duration": 11,
    "start_time": "2024-02-13T10:45:21.247Z"
   },
   {
    "duration": 8,
    "start_time": "2024-02-13T10:47:27.958Z"
   },
   {
    "duration": 46,
    "start_time": "2024-02-13T10:58:20.574Z"
   },
   {
    "duration": 30,
    "start_time": "2024-02-13T10:58:36.605Z"
   },
   {
    "duration": 10,
    "start_time": "2024-02-13T11:00:52.787Z"
   },
   {
    "duration": 10,
    "start_time": "2024-02-13T11:07:54.302Z"
   },
   {
    "duration": 10,
    "start_time": "2024-02-13T11:08:18.315Z"
   },
   {
    "duration": 4,
    "start_time": "2024-02-13T11:15:03.161Z"
   },
   {
    "duration": 4,
    "start_time": "2024-02-13T11:18:16.960Z"
   },
   {
    "duration": 3,
    "start_time": "2024-02-13T11:18:44.284Z"
   },
   {
    "duration": 3,
    "start_time": "2024-02-13T11:29:47.412Z"
   },
   {
    "duration": 3,
    "start_time": "2024-02-13T11:31:19.991Z"
   },
   {
    "duration": 9,
    "start_time": "2024-02-14T05:36:08.423Z"
   },
   {
    "duration": 409,
    "start_time": "2024-02-14T05:36:16.784Z"
   },
   {
    "duration": 482,
    "start_time": "2024-02-14T05:36:17.194Z"
   },
   {
    "duration": 9,
    "start_time": "2024-02-14T05:36:17.678Z"
   },
   {
    "duration": 38,
    "start_time": "2024-02-14T05:36:17.689Z"
   },
   {
    "duration": 2,
    "start_time": "2024-02-14T05:36:17.729Z"
   },
   {
    "duration": 5,
    "start_time": "2024-02-14T05:36:17.733Z"
   },
   {
    "duration": 33,
    "start_time": "2024-02-14T05:36:17.740Z"
   },
   {
    "duration": 3,
    "start_time": "2024-02-14T05:36:17.775Z"
   },
   {
    "duration": 33,
    "start_time": "2024-02-14T05:36:17.779Z"
   },
   {
    "duration": 25,
    "start_time": "2024-02-14T05:36:17.815Z"
   },
   {
    "duration": 42,
    "start_time": "2024-02-14T05:36:17.842Z"
   },
   {
    "duration": 69,
    "start_time": "2024-02-14T05:36:17.885Z"
   },
   {
    "duration": 92,
    "start_time": "2024-02-14T05:36:17.956Z"
   },
   {
    "duration": 87,
    "start_time": "2024-02-14T05:36:18.049Z"
   },
   {
    "duration": 7,
    "start_time": "2024-02-14T05:36:18.137Z"
   },
   {
    "duration": 13,
    "start_time": "2024-02-14T05:36:18.145Z"
   },
   {
    "duration": 7,
    "start_time": "2024-02-14T05:36:18.172Z"
   },
   {
    "duration": 12,
    "start_time": "2024-02-14T05:36:18.180Z"
   },
   {
    "duration": 12,
    "start_time": "2024-02-14T05:36:18.194Z"
   },
   {
    "duration": 4,
    "start_time": "2024-02-14T05:36:18.207Z"
   },
   {
    "duration": 36,
    "start_time": "2024-02-14T12:30:54.390Z"
   },
   {
    "duration": 18,
    "start_time": "2024-02-14T12:30:57.059Z"
   },
   {
    "duration": 26,
    "start_time": "2024-02-14T12:30:58.000Z"
   },
   {
    "duration": 15,
    "start_time": "2024-02-14T12:30:58.625Z"
   },
   {
    "duration": 20,
    "start_time": "2024-02-14T12:30:59.090Z"
   },
   {
    "duration": 16,
    "start_time": "2024-02-14T12:30:59.555Z"
   },
   {
    "duration": 78,
    "start_time": "2024-02-14T12:37:37.793Z"
   },
   {
    "duration": 84,
    "start_time": "2024-02-14T12:37:57.480Z"
   },
   {
    "duration": 16,
    "start_time": "2024-02-14T12:40:12.961Z"
   },
   {
    "duration": 20,
    "start_time": "2024-02-14T12:41:35.453Z"
   },
   {
    "duration": 7,
    "start_time": "2024-02-14T12:42:12.343Z"
   },
   {
    "duration": 6,
    "start_time": "2024-02-14T12:42:59.437Z"
   },
   {
    "duration": 11,
    "start_time": "2024-02-14T12:49:15.170Z"
   },
   {
    "duration": 10,
    "start_time": "2024-02-14T12:49:16.704Z"
   },
   {
    "duration": 4,
    "start_time": "2024-02-14T12:55:11.077Z"
   },
   {
    "duration": 4,
    "start_time": "2024-02-14T12:57:50.239Z"
   },
   {
    "duration": 4,
    "start_time": "2024-02-14T12:58:25.926Z"
   },
   {
    "duration": 9,
    "start_time": "2024-02-14T12:58:38.513Z"
   },
   {
    "duration": 4,
    "start_time": "2024-02-14T12:58:49.230Z"
   },
   {
    "duration": 77,
    "start_time": "2024-02-14T13:01:49.725Z"
   },
   {
    "duration": 18,
    "start_time": "2024-02-14T13:02:42.850Z"
   },
   {
    "duration": 12,
    "start_time": "2024-02-14T13:02:46.210Z"
   },
   {
    "duration": 19,
    "start_time": "2024-02-14T13:02:47.114Z"
   },
   {
    "duration": 13,
    "start_time": "2024-02-14T13:02:47.705Z"
   },
   {
    "duration": 12,
    "start_time": "2024-02-15T07:29:03.316Z"
   },
   {
    "duration": 11,
    "start_time": "2024-02-15T07:29:52.316Z"
   },
   {
    "duration": 10,
    "start_time": "2024-02-15T07:30:02.121Z"
   },
   {
    "duration": 10,
    "start_time": "2024-02-15T07:30:14.981Z"
   },
   {
    "duration": 9,
    "start_time": "2024-02-15T07:30:20.761Z"
   },
   {
    "duration": 10,
    "start_time": "2024-02-15T07:30:23.011Z"
   },
   {
    "duration": 4,
    "start_time": "2024-02-15T07:30:40.731Z"
   },
   {
    "duration": 8,
    "start_time": "2024-02-15T07:35:24.696Z"
   },
   {
    "duration": 7,
    "start_time": "2024-02-15T07:35:41.050Z"
   },
   {
    "duration": 4,
    "start_time": "2024-02-15T07:36:03.394Z"
   }
  ],
  "celltoolbar": "Отсутствует",
  "colab": {
   "collapsed_sections": [
    "E0vqbgi9ay0H",
    "VUC88oWjTJw2"
   ],
   "provenance": []
  },
  "kernelspec": {
   "display_name": "Python 3 (ipykernel)",
   "language": "python",
   "name": "python3"
  },
  "language_info": {
   "codemirror_mode": {
    "name": "ipython",
    "version": 3
   },
   "file_extension": ".py",
   "mimetype": "text/x-python",
   "name": "python",
   "nbconvert_exporter": "python",
   "pygments_lexer": "ipython3",
   "version": "3.9.5"
  },
  "toc": {
   "base_numbering": 1,
   "nav_menu": {
    "height": "215px",
    "width": "403px"
   },
   "number_sections": true,
   "sideBar": true,
   "skip_h1_title": true,
   "title_cell": "Table of Contents",
   "title_sidebar": "Contents",
   "toc_cell": false,
   "toc_position": {
    "height": "calc(100% - 180px)",
    "left": "10px",
    "top": "150px",
    "width": "285.825px"
   },
   "toc_section_display": true,
   "toc_window_display": false
  }
 },
 "nbformat": 4,
 "nbformat_minor": 1
}
